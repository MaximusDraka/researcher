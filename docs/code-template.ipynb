{
 "cells": [
  {
   "cell_type": "markdown",
   "metadata": {},
   "source": [
    "1. Obtain Data for specific language\n",
    "\n",
    "- Download datasets (Resume, Kaggle, Jobs)\n",
    "- Generate from GPT\n",
    "- Top SKILLS"
   ]
  },
  {
   "cell_type": "markdown",
   "metadata": {},
   "source": [
    "2. Pre-process\n",
    "\n",
    "- Format\n",
    "- Remove duplicates\n",
    "- Remove HTML tags\n",
    "- Remove empty lines\n",
    "- Remove punctuations\n",
    "- Fix NaN\n",
    "- Check data types"
   ]
  },
  {
   "cell_type": "markdown",
   "metadata": {},
   "source": [
    "3. EDA\n",
    "\n",
    "- Display data content\n",
    "- Investigate distribution"
   ]
  },
  {
   "cell_type": "markdown",
   "metadata": {},
   "source": [
    "4. Featurisation\n",
    "\n",
    "- split data\n",
    "- categorisation\n",
    "- join datasets\n",
    "\n",
    "\n",
    "Not used for NLP project"
   ]
  },
  {
   "cell_type": "markdown",
   "metadata": {},
   "source": [
    "5. Feature selection\n",
    "\n",
    "- Standardisation\n",
    "- one-shot encoding\n",
    "- Normalisation"
   ]
  },
  {
   "cell_type": "markdown",
   "metadata": {},
   "source": [
    "6. NLP -Preprocessing\n",
    "\n",
    "- Remove stop words if needed\n",
    "- Tokenize the text into wordvectors/word-embeddings\n",
    "- Create patterns for labels using EntityRuler\n",
    "- Improve vocabulary from file\n",
    "- Annotate data\n",
    "- Save data to disk"
   ]
  },
  {
   "cell_type": "markdown",
   "metadata": {},
   "source": [
    "7. Corpus\n",
    "\n",
    "- split data into train, evaluate and test datasets using sklearn"
   ]
  },
  {
   "cell_type": "markdown",
   "metadata": {},
   "source": [
    "8. Train Model\n",
    "\n",
    "- Select base model\n",
    "- Define pipeline elements - only keep NER\n",
    "- Use CLI command line with Spacy config file to train the data"
   ]
  },
  {
   "cell_type": "markdown",
   "metadata": {},
   "source": [
    "9. Evaluate\n",
    "\n",
    "- Display model specifications and hyperparameters\n",
    "- Compare with other models without NER training"
   ]
  },
  {
   "cell_type": "markdown",
   "metadata": {},
   "source": [
    "10. Test model\n",
    "\n",
    "- Use obtained model on the test set\n",
    "- Compare the training with the test results"
   ]
  },
  {
   "cell_type": "markdown",
   "metadata": {},
   "source": [
    "11. Interpretation\n",
    "\n",
    "- What did we learn\n",
    "- Conclusions"
   ]
  },
  {
   "cell_type": "markdown",
   "metadata": {},
   "source": [
    "12. Explainability\n",
    "\n",
    "- Visualize the model pipeline\n",
    "- Display the parameters\n",
    "- Explain the result"
   ]
  },
  {
   "cell_type": "markdown",
   "metadata": {},
   "source": [
    "13. Save model\n",
    "\n",
    "- Save to disk"
   ]
  }
 ],
 "metadata": {
  "kernelspec": {
   "display_name": "machinelearning",
   "language": "python",
   "name": "python3"
  },
  "language_info": {
   "name": "python",
   "version": "3.11.8"
  }
 },
 "nbformat": 4,
 "nbformat_minor": 2
}
