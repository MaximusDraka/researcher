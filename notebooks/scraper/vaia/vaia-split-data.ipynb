{
 "cells": [
  {
   "cell_type": "code",
   "execution_count": null,
   "metadata": {},
   "outputs": [],
   "source": [
    "import pandas as pd\n",
    "import sys  \n",
    "sys.path.insert(1, 'C:/Users/tom/projects/skill-skeleton/utils/')\n",
    "\n",
    "import spacy_util\n",
    "\n",
    "df = pd.read_csv(\"vaia-data.csv\",delimiter='|')\n",
    "\n",
    "df['data'] = df['data'].apply(str)\n",
    "\n",
    "df['data'] = df['data'].apply(spacy_util.remove_punctuation)  \n",
    "\n",
    "#split data\n",
    "df[:50].to_csv(\"vaia-data-IT1.csv\",sep='|',index=False, encoding='utf-8')\n",
    "df[50:100].to_csv(\"vaia-data-IT2.csv\",sep='|',index=False, encoding='utf-8')\n",
    "df[100:150].to_csv(\"vaia-data-IT3.csv\",sep='|',index=False, encoding='utf-8')\n",
    "df[150:].to_csv(\"vaia-data-NER.csv\",sep='|',index=False, encoding='utf-8')"
   ]
  }
 ],
 "metadata": {
  "kernelspec": {
   "display_name": "base",
   "language": "python",
   "name": "python3"
  },
  "language_info": {
   "codemirror_mode": {
    "name": "ipython",
    "version": 3
   },
   "file_extension": ".py",
   "mimetype": "text/x-python",
   "name": "python",
   "nbconvert_exporter": "python",
   "pygments_lexer": "ipython3",
   "version": "3.11.8"
  }
 },
 "nbformat": 4,
 "nbformat_minor": 2
}
