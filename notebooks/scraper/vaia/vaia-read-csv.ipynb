{
 "cells": [
  {
   "cell_type": "code",
   "execution_count": 1,
   "metadata": {},
   "outputs": [
    {
     "name": "stdout",
     "output_type": "stream",
     "text": [
      "Aantal lijnen in CSV: 338\n"
     ]
    }
   ],
   "source": [
    "#Read csv normal\n",
    "with open('vaia-data.csv','r',encoding='utf-8') as f:\n",
    "           lines = f.readlines()\n",
    "\n",
    "total = len(lines)\n",
    "print(f\"Aantal lijnen in CSV: {total}\")"
   ]
  },
  {
   "cell_type": "code",
   "execution_count": 2,
   "metadata": {},
   "outputs": [
    {
     "name": "stdout",
     "output_type": "stream",
     "text": [
      "Index(['title', 'url', 'date', 'course_info', 'start_time', 'language',\n",
      "       'location_detail', 'target_group', 'subscription_limit', 'constraints',\n",
      "       'price', 'details', 'sub_title', 'intro', 'full_body', 'data'],\n",
      "      dtype='object')\n",
      "------------------------------------------------------------------------------------------------\n",
      "333\n",
      "0 == Keeping things private: Exploring open-source large language models for sensitive text data == 15/04/2024 == €50-€150 (see Practical information below) == City Campus of the University of Antwerp, Building C, room C.002 (Entrance via Prinsstraat 13, Antwerp) == English\n",
      "------------------------------------------------------------------------------------------------\n",
      "1 == Machine Learning with Python == 15/04/2024 == €600 - €1470 == Krijgslaan 281, 9000 Gent == English\n",
      "------------------------------------------------------------------------------------------------\n",
      "2 == Current Trends in AI == 17/04/2024 == €240-€800 == Spoorwegstraat 12, 8200 Brugge == English\n",
      "------------------------------------------------------------------------------------------------\n",
      "3 == Digital Ethics == 18/04/2024 == € 1500 == Hybrid == English\n",
      "------------------------------------------------------------------------------------------------\n",
      "4 == AI &amp; Digital Technologies == 19/04/2024 == free == Online == English\n",
      "------------------------------------------------------------------------------------------------\n",
      "5 == How to set-up a Health Data Sharing Initiative == 22/04/2024 == free == Embuild - Wetenschapspark 33, 3590 Diepenbeek == English\n",
      "------------------------------------------------------------------------------------------------\n",
      "6 == Big Data for Health &amp; Care: The Arisal of Data Spaces == 23/04/2024 == free == Corda Campus - Kempische Steenweg 293/16, 3500 Hasselt == English\n",
      "------------------------------------------------------------------------------------------------\n",
      "7 == Defining Responsible AI strategies == 24/04/2024 == €250 excl. VAT == Be Central, FARI Experience Centre - Cantersteen 16, 1000 Bruxelles == English\n",
      "------------------------------------------------------------------------------------------------\n",
      "8 == Keeping things private: Exploring open-source large language models for sensitive text data == 15/04/2024 == €50-€150 (see Practical information below) == City Campus of the University of Antwerp, Building C, room C.002 (Entrance via Prinsstraat 13, Antwerp) == English\n",
      "------------------------------------------------------------------------------------------------\n",
      "9 == Machine Learning with Python == 15/04/2024 == €600 - €1470 == Krijgslaan 281, 9000 Gent == English\n",
      "------------------------------------------------------------------------------------------------\n",
      "10 == Current Trends in AI == 17/04/2024 == €240-€800 == Spoorwegstraat 12, 8200 Brugge == English\n",
      "------------------------------------------------------------------------------------------------\n",
      "11 == Digital Ethics == 18/04/2024 == € 1500 == Hybrid == English\n",
      "------------------------------------------------------------------------------------------------\n",
      "12 == AI &amp; Digital Technologies == 19/04/2024 == free == Online == English\n",
      "------------------------------------------------------------------------------------------------\n",
      "13 == How to set-up a Health Data Sharing Initiative == 22/04/2024 == free == Embuild - Wetenschapspark 33, 3590 Diepenbeek == English\n",
      "------------------------------------------------------------------------------------------------\n",
      "14 == Big Data for Health &amp; Care: The Arisal of Data Spaces == 23/04/2024 == free == Corda Campus - Kempische Steenweg 293/16, 3500 Hasselt == English\n",
      "------------------------------------------------------------------------------------------------\n",
      "15 == Defining Responsible AI strategies == 24/04/2024 == €250 excl. VAT == Be Central, FARI Experience Centre - Cantersteen 16, 1000 Bruxelles == English\n",
      "------------------------------------------------------------------------------------------------\n",
      "16 == Efficient use of a network protocol analyzer in cyber threats == 24/04/2024 == €250 == KU Leuven, Campus Rabot - Gebroeders de Smetstraat 1, 9000 Ghent == English\n",
      "------------------------------------------------------------------------------------------------\n",
      "17 == 2024 Digital Finance Conference == 25/04/2024 == €445 == Ghent == English\n",
      "------------------------------------------------------------------------------------------------\n",
      "18 == Human-Robot Collaboration == 26/04/2024 == free == Online &amp; Cantersteen 16, 1000 Brussels == English\n",
      "------------------------------------------------------------------------------------------------\n",
      "19 == Supervised machine learning with tensor network kernel machines == 30/04/2024 == free == KU Leuven Thermotechnisch Instituut Aula van de Tweede Hoofdwet (01.02) == English\n",
      "------------------------------------------------------------------------------------------------\n",
      "20 == Creating Business Value with AI and Big Data == 2/05/2024 == € 7,195 (excl. VAT) == Brussels Campus (Bolwerklaan 21/bus 32, 1210 Brussels) &amp; Online == English\n",
      "------------------------------------------------------------------------------------------------\n",
      "21 == War &amp; Peace, and Robotics == 2/05/2024 == free == Online &amp; USquare - Av. de la Couronne 227, 1050 Ixelles == English\n",
      "------------------------------------------------------------------------------------------------\n",
      "22 == Digital Strategy &amp; AI == 13/05/2024 == €3,995 (excl. VAT) == Reep 1, 9000 Ghent == English\n",
      "------------------------------------------------------------------------------------------------\n",
      "23 == Khovanskii Bases for Semimixed Systems of Polynomial Equations == 14/05/2024 == free == KU Leuven, Department of Electrical Engineering (ESAT), Aula R (ELEC 00.54) == English\n",
      "------------------------------------------------------------------------------------------------\n",
      "24 == Spring Fest: GenAI for Business == 16/05/2024 == €290 == Faculty Club - Groot Begijnhof 14, 3000 Leuven == English\n",
      "------------------------------------------------------------------------------------------------\n",
      "25 == Structural equation modeling with lavaan == 20/05/2024 == €340 - €750 == Henri Dunantlaan 2, 9000, Gent == English\n",
      "------------------------------------------------------------------------------------------------\n",
      "26 == A No-Code Approach to Decision Support and Knowledge Capturing == 24/05/2024 == €250 == KU Leuven - Brugge | Spoorwegstraat 12, 8200 Brugge == English\n",
      "------------------------------------------------------------------------------------------------\n",
      "27 == Chebyshev varieties == 28/05/2024 == free == KU Leuven, Department of Electrical Engineering (ESAT), Aula C (ELEC B91.300) == English\n",
      "------------------------------------------------------------------------------------------------\n",
      "28 == Hacking and protecting embedded devices == 29/05/2024 == €250 == KU Leuven, Campus Rabot - Gebroeders de Smetstraat 1, 9000 Ghent == English\n",
      "------------------------------------------------------------------------------------------------\n",
      "29 == Digital Marketing == 6/06/2024 == €4,395 (excl. btw) == Online &amp; Campus Gent == English\n",
      "------------------------------------------------------------------------------------------------\n",
      "30 == Law, Ethics and Policy of Artificial Intelligence == 1/07/2024 == €595-1250 == online or at KU Leuven Faculty of Law and Criminology - College De Valk DV3 (Tiensestraat 41, 3000 Leuven) == English\n",
      "------------------------------------------------------------------------------------------------\n",
      "31 == Data for policy 2024 - Decoding the Future: Trustworthy Governance with AI? == 9/07/2024 == £350 - £850 == Abroad == English\n",
      "------------------------------------------------------------------------------------------------\n",
      "32 == The Society for Imprecise Probabilities: Theories and Applications Summer School == 12/08/2024 == max. €125 == Gent == English\n",
      "------------------------------------------------------------------------------------------------\n",
      "33 == Digital Leadership == 26/08/2024 == €7,695 (excl. VAT) == Bolwerklaan 21/bus 32, 1210 Brussels == English\n",
      "------------------------------------------------------------------------------------------------\n",
      "34 == EU cybersecurity standards and regulation for IoT ecosystems and Industrial Control Systems == 28/08/2024 == €250 == KU Leuven, Campus Rabot - Gebroeders de Smetstraat 1, 9000 Ghent == English\n",
      "------------------------------------------------------------------------------------------------\n",
      "35 == AI in Business and Industry == 24/09/2024 == €4150 == Etienne Sabbelaan 53, 8500 Kortrijk == English\n",
      "------------------------------------------------------------------------------------------------\n",
      "36 == Cyberattack response == 25/09/2024 == €250 == KU Leuven, Campus Rabot - Gebroeders de Smetstraat 1, 9000 Ghent == English\n",
      "------------------------------------------------------------------------------------------------\n",
      "37 == Applied Artificial Intelligence == 1/10/2024 == €1.890-€2.040 == Nijverheidskaai 170, 1070 Anderlecht == English\n",
      "------------------------------------------------------------------------------------------------\n",
      "38 == Take the Lead in Digital Business of the Future == 1/10/2024 == €2,195 (excl. VAT) == Brussels == English\n",
      "------------------------------------------------------------------------------------------------\n",
      "39 == Creating business value with AI and big data == 14/10/2024 == €7,195 (excl. VAT) == Brussels == English\n",
      "------------------------------------------------------------------------------------------------\n",
      "40 == Post-quantum cryptography == 23/10/2024 == €250 == KU Leuven, Campus Rabot - Gebroeders de Smetstraat 1, 9000 Ghent == English\n",
      "------------------------------------------------------------------------------------------------\n",
      "41 == Digital Finance == 10/03/2025 == €3,995 (excl. VAT) == Brussels == English\n",
      "------------------------------------------------------------------------------------------------\n",
      "42 == The Smart Factory &amp; Digital Supply Chain == 31/03/2025 == €4,095 (excl. VAT) == Ghent == English\n",
      "------------------------------------------------------------------------------------------------\n"
     ]
    },
    {
     "ename": "TypeError",
     "evalue": "can only concatenate str (not \"float\") to str",
     "output_type": "error",
     "traceback": [
      "\u001b[1;31m---------------------------------------------------------------------------\u001b[0m",
      "\u001b[1;31mTypeError\u001b[0m                                 Traceback (most recent call last)",
      "Cell \u001b[1;32mIn[2], line 15\u001b[0m\n\u001b[0;32m     12\u001b[0m \u001b[38;5;28;01mfor\u001b[39;00m index, row \u001b[38;5;129;01min\u001b[39;00m df\u001b[38;5;241m.\u001b[39miterrows():\n\u001b[0;32m     14\u001b[0m     \u001b[38;5;28;01mif\u001b[39;00m row[\u001b[38;5;124m'\u001b[39m\u001b[38;5;124mlanguage\u001b[39m\u001b[38;5;124m'\u001b[39m] \u001b[38;5;241m==\u001b[39m \u001b[38;5;124m'\u001b[39m\u001b[38;5;124mEnglish\u001b[39m\u001b[38;5;124m'\u001b[39m:      \n\u001b[1;32m---> 15\u001b[0m         \u001b[38;5;28mprint\u001b[39m(\u001b[38;5;28;43mstr\u001b[39;49m\u001b[43m(\u001b[49m\u001b[43mindex\u001b[49m\u001b[43m)\u001b[49m\u001b[43m \u001b[49m\u001b[38;5;241;43m+\u001b[39;49m\u001b[38;5;124;43m\"\u001b[39;49m\u001b[38;5;124;43m == \u001b[39;49m\u001b[38;5;124;43m\"\u001b[39;49m\u001b[38;5;241;43m+\u001b[39;49m\u001b[43m \u001b[49m\u001b[43mrow\u001b[49m\u001b[43m[\u001b[49m\u001b[38;5;124;43m'\u001b[39;49m\u001b[38;5;124;43mtitle\u001b[39;49m\u001b[38;5;124;43m'\u001b[39;49m\u001b[43m]\u001b[49m\u001b[43m \u001b[49m\u001b[38;5;241;43m+\u001b[39;49m\u001b[38;5;124;43m\"\u001b[39;49m\u001b[38;5;124;43m == \u001b[39;49m\u001b[38;5;124;43m\"\u001b[39;49m\u001b[38;5;241;43m+\u001b[39;49m\u001b[43m \u001b[49m\u001b[43mrow\u001b[49m\u001b[43m[\u001b[49m\u001b[38;5;124;43m'\u001b[39;49m\u001b[38;5;124;43mdate\u001b[39;49m\u001b[38;5;124;43m'\u001b[39;49m\u001b[43m]\u001b[49m\u001b[38;5;241m+\u001b[39m\u001b[38;5;124m\"\u001b[39m\u001b[38;5;124m == \u001b[39m\u001b[38;5;124m\"\u001b[39m\u001b[38;5;241m+\u001b[39m row[\u001b[38;5;124m'\u001b[39m\u001b[38;5;124mprice\u001b[39m\u001b[38;5;124m'\u001b[39m]\u001b[38;5;241m+\u001b[39m\u001b[38;5;124m\"\u001b[39m\u001b[38;5;124m == \u001b[39m\u001b[38;5;124m\"\u001b[39m\u001b[38;5;241m+\u001b[39m row[\u001b[38;5;124m'\u001b[39m\u001b[38;5;124mlocation_detail\u001b[39m\u001b[38;5;124m'\u001b[39m]\u001b[38;5;241m+\u001b[39m\u001b[38;5;124m\"\u001b[39m\u001b[38;5;124m == \u001b[39m\u001b[38;5;124m\"\u001b[39m\u001b[38;5;241m+\u001b[39m row[\u001b[38;5;124m'\u001b[39m\u001b[38;5;124mlanguage\u001b[39m\u001b[38;5;124m'\u001b[39m])       \n\u001b[0;32m     16\u001b[0m         \u001b[38;5;28mprint\u001b[39m(\u001b[38;5;124m'\u001b[39m\u001b[38;5;124m------------------------------------------------------------------------------------------------\u001b[39m\u001b[38;5;124m'\u001b[39m)\n",
      "\u001b[1;31mTypeError\u001b[0m: can only concatenate str (not \"float\") to str"
     ]
    }
   ],
   "source": [
    "import pandas as pd\n",
    "df = pd.read_csv(\"vaia-data.csv\",delimiter='|')\n",
    "\n",
    "print(df.columns)\n",
    "print('------------------------------------------------------------------------------------------------')\n",
    "\n",
    "#https://towardsdatascience.com/4-python-libraries-to-detect-english-and-non-english-language-c82ad3efd430\n",
    "\n",
    "\n",
    "print(len(df[df[\"language\"]==\"English\"]))\n",
    "\n",
    "for index, row in df.iterrows():\n",
    "    \n",
    "    if row['language'] == 'English':      \n",
    "        print(str(index) +\" == \"+ row['title'] +\" == \"+ row['date']+\" == \"+ row['price']+\" == \"+ row['location_detail']+\" == \"+ row['language'])       \n",
    "        print('------------------------------------------------------------------------------------------------')\n",
    "        #print( row['full_body'])\n",
    "    \n",
    "    #break\n"
   ]
  },
  {
   "cell_type": "code",
   "execution_count": 7,
   "metadata": {},
   "outputs": [
    {
     "data": {
      "text/plain": [
       "'\\nFor this session  Anastasia Karagianni – Doctoral Candidate at the LSTS Department of the Law and Criminology Faculty of VUB  will examine gender issues in AI from a feminist perspective. Through constant interaction with the audience  key definitions of AI will be provided (1st part)  examples/case studies of discriminatory treatment by AI systems will be referred (2nd part)  while an analysis of gender equality ethics and feminist principles will be shared to address these issues.\\nA balanced mix of learning and relaxation\\nAttendees will have the opportunity to delve into sustainable digitalisation with Anastasia  followed by a casual happy hour with snacks and beverages!\\nThis event is free to attend  but registration is compulsory.\\n'"
      ]
     },
     "execution_count": 7,
     "metadata": {},
     "output_type": "execute_result"
    }
   ],
   "source": [
    "df['full_body'][1]"
   ]
  }
 ],
 "metadata": {
  "kernelspec": {
   "display_name": "base",
   "language": "python",
   "name": "python3"
  },
  "language_info": {
   "codemirror_mode": {
    "name": "ipython",
    "version": 3
   },
   "file_extension": ".py",
   "mimetype": "text/x-python",
   "name": "python",
   "nbconvert_exporter": "python",
   "pygments_lexer": "ipython3",
   "version": "3.11.8"
  }
 },
 "nbformat": 4,
 "nbformat_minor": 2
}
