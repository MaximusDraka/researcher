{
 "cells": [
  {
   "cell_type": "code",
   "execution_count": 6,
   "metadata": {},
   "outputs": [],
   "source": [
    "import pandas as pd"
   ]
  },
  {
   "cell_type": "code",
   "execution_count": 7,
   "metadata": {},
   "outputs": [
    {
     "data": {
      "text/plain": [
       "Category\n",
       "data engineer    10\n",
       "Name: count, dtype: int64"
      ]
     },
     "execution_count": 7,
     "metadata": {},
     "output_type": "execute_result"
    }
   ],
   "source": [
    "df = pd.read_csv('Resume.csv',sep='|')\n",
    "\n",
    "labels = df.Category.unique()\n",
    "df.Category.value_counts()"
   ]
  },
  {
   "cell_type": "code",
   "execution_count": 8,
   "metadata": {},
   "outputs": [
    {
     "data": {
      "text/plain": [
       "Category       0\n",
       "link           0\n",
       "id             0\n",
       "Resume         0\n",
       "Resume_html    0\n",
       "dtype: int64"
      ]
     },
     "execution_count": 8,
     "metadata": {},
     "output_type": "execute_result"
    }
   ],
   "source": [
    "df.dropna(inplace=True)\n",
    "df.isnull().sum()"
   ]
  },
  {
   "cell_type": "code",
   "execution_count": 9,
   "metadata": {},
   "outputs": [
    {
     "data": {
      "text/html": [
       "<div>\n",
       "<style scoped>\n",
       "    .dataframe tbody tr th:only-of-type {\n",
       "        vertical-align: middle;\n",
       "    }\n",
       "\n",
       "    .dataframe tbody tr th {\n",
       "        vertical-align: top;\n",
       "    }\n",
       "\n",
       "    .dataframe thead th {\n",
       "        text-align: right;\n",
       "    }\n",
       "</style>\n",
       "<table border=\"1\" class=\"dataframe\">\n",
       "  <thead>\n",
       "    <tr style=\"text-align: right;\">\n",
       "      <th></th>\n",
       "      <th>ID</th>\n",
       "      <th>Resume_str</th>\n",
       "      <th>Resume_html</th>\n",
       "      <th>Category</th>\n",
       "    </tr>\n",
       "  </thead>\n",
       "  <tbody>\n",
       "    <tr>\n",
       "      <th>0</th>\n",
       "      <td>29309825</td>\n",
       "      <td>Jessica    Claire                   Montgomery...</td>\n",
       "      <td>&lt;div class=\"sc-17g85ze-0 elmLAX sc-ydzc86-3 kZ...</td>\n",
       "      <td>DATA ENGINEER</td>\n",
       "    </tr>\n",
       "    <tr>\n",
       "      <th>1</th>\n",
       "      <td>14996931</td>\n",
       "      <td>Jessica  Claire                             re...</td>\n",
       "      <td>&lt;div class=\"sc-17g85ze-0 hqxIsp sc-ydzc86-3 kZ...</td>\n",
       "      <td>DATA ENGINEER</td>\n",
       "    </tr>\n",
       "    <tr>\n",
       "      <th>2</th>\n",
       "      <td>20202267</td>\n",
       "      <td>Jessica    Claire               Montgomery Str...</td>\n",
       "      <td>&lt;div class=\"sc-17g85ze-0 eloyfg sc-ydzc86-3 kZ...</td>\n",
       "      <td>DATA ENGINEER</td>\n",
       "    </tr>\n",
       "    <tr>\n",
       "      <th>3</th>\n",
       "      <td>24368114</td>\n",
       "      <td>JC     Jessica    Claire                      ...</td>\n",
       "      <td>&lt;div class=\"sc-17g85ze-0 elkWGV sc-ydzc86-3 kZ...</td>\n",
       "      <td>DATA ENGINEER</td>\n",
       "    </tr>\n",
       "    <tr>\n",
       "      <th>4</th>\n",
       "      <td>65795845</td>\n",
       "      <td>Jessica    Claire                     ,     , ...</td>\n",
       "      <td>&lt;div class=\"sc-17g85ze-0 elmXHR sc-ydzc86-3 kZ...</td>\n",
       "      <td>DATA ENGINEER</td>\n",
       "    </tr>\n",
       "  </tbody>\n",
       "</table>\n",
       "</div>"
      ],
      "text/plain": [
       "         ID                                         Resume_str  \\\n",
       "0  29309825  Jessica    Claire                   Montgomery...   \n",
       "1  14996931  Jessica  Claire                             re...   \n",
       "2  20202267  Jessica    Claire               Montgomery Str...   \n",
       "3  24368114  JC     Jessica    Claire                      ...   \n",
       "4  65795845  Jessica    Claire                     ,     , ...   \n",
       "\n",
       "                                         Resume_html       Category  \n",
       "0  <div class=\"sc-17g85ze-0 elmLAX sc-ydzc86-3 kZ...  DATA ENGINEER  \n",
       "1  <div class=\"sc-17g85ze-0 hqxIsp sc-ydzc86-3 kZ...  DATA ENGINEER  \n",
       "2  <div class=\"sc-17g85ze-0 eloyfg sc-ydzc86-3 kZ...  DATA ENGINEER  \n",
       "3  <div class=\"sc-17g85ze-0 elkWGV sc-ydzc86-3 kZ...  DATA ENGINEER  \n",
       "4  <div class=\"sc-17g85ze-0 elmXHR sc-ydzc86-3 kZ...  DATA ENGINEER  "
      ]
     },
     "execution_count": 9,
     "metadata": {},
     "output_type": "execute_result"
    }
   ],
   "source": [
    "df.id = [x[::5] for x in df.id]\n",
    "df = df[['id', 'Resume', 'Resume_html', 'Category']]\n",
    "df.columns = ['ID', 'Resume_str', 'Resume_html', 'Category']\n",
    "df.Category  = [x.upper() for x in df.Category]\n",
    "df.head()"
   ]
  }
 ],
 "metadata": {
  "kernelspec": {
   "display_name": "base",
   "language": "python",
   "name": "python3"
  },
  "language_info": {
   "codemirror_mode": {
    "name": "ipython",
    "version": 3
   },
   "file_extension": ".py",
   "mimetype": "text/x-python",
   "name": "python",
   "nbconvert_exporter": "python",
   "pygments_lexer": "ipython3",
   "version": "3.10.13"
  }
 },
 "nbformat": 4,
 "nbformat_minor": 2
}
