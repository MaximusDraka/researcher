{
 "cells": [
  {
   "cell_type": "code",
   "execution_count": 1,
   "metadata": {},
   "outputs": [
    {
     "name": "stdout",
     "output_type": "stream",
     "text": [
      "Will retrieve an estimated 20049 documents\n",
      "Retrieved 1000 papers...\n",
      "Retrieved 2000 papers...\n",
      "Retrieved 3000 papers...\n",
      "Retrieved 4000 papers...\n",
      "Retrieved 5000 papers...\n",
      "Retrieved 6000 papers...\n",
      "Retrieved 7000 papers...\n",
      "Retrieved 8000 papers...\n",
      "Retrieved 9000 papers...\n",
      "Retrieved 10000 papers...\n",
      "Retrieved 11000 papers...\n",
      "Retrieved 12000 papers...\n",
      "Retrieved 13000 papers...\n",
      "Retrieved 14000 papers...\n",
      "Retrieved 15000 papers...\n",
      "Retrieved 16000 papers...\n",
      "Retrieved 17000 papers...\n",
      "Retrieved 18000 papers...\n",
      "Retrieved 19000 papers...\n",
      "Retrieved 20000 papers...\n",
      "Retrieved 20049 papers...\n",
      "Done! Retrieved 20049 papers total\n"
     ]
    }
   ],
   "source": [
    "import requests\n",
    "import json\n",
    "\n",
    "query = \"(cold -temperature) | flu\"\n",
    "fields = \"title,year\"\n",
    "\n",
    "url = f\"http://api.semanticscholar.org/graph/v1/paper/search/bulk?query={query}&fields={fields}&year=2023-\"\n",
    "r = requests.get(url).json()\n",
    "\n",
    "print(f\"Will retrieve an estimated {r['total']} documents\")\n",
    "retrieved = 0\n",
    "\n",
    "with open(f\"papers.jsonl\", \"a\") as file:\n",
    "    while True:\n",
    "        if \"data\" in r:\n",
    "            retrieved += len(r[\"data\"])\n",
    "            print(f\"Retrieved {retrieved} papers...\")\n",
    "            for paper in r[\"data\"]:\n",
    "                print(json.dumps(paper), file=file)\n",
    "        if \"token\" not in r:\n",
    "            break\n",
    "        r = requests.get(f\"{url}&token={r['token']}\").json()\n",
    "\n",
    "print(f\"Done! Retrieved {retrieved} papers total\")"
   ]
  }
 ],
 "metadata": {
  "kernelspec": {
   "display_name": "base",
   "language": "python",
   "name": "python3"
  },
  "language_info": {
   "codemirror_mode": {
    "name": "ipython",
    "version": 3
   },
   "file_extension": ".py",
   "mimetype": "text/x-python",
   "name": "python",
   "nbconvert_exporter": "python",
   "pygments_lexer": "ipython3",
   "version": "3.10.13"
  }
 },
 "nbformat": 4,
 "nbformat_minor": 2
}
