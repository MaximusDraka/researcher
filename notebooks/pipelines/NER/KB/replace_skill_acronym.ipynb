{
 "cells": [
  {
   "cell_type": "code",
   "execution_count": 2,
   "metadata": {},
   "outputs": [
    {
     "name": "stdout",
     "output_type": "stream",
     "text": [
      "i learned database management system and natural language processing techniques\n"
     ]
    }
   ],
   "source": [
    "import os\n",
    "import sys\n",
    "from dotenv import load_dotenv\n",
    "sys.path.insert(1, os.getenv(\"PROJECT_PATH\") +'/utils/')\n",
    "\n",
    "import kb_util\n",
    "\n",
    "# Fix abbreviated/synomym text\n",
    "input_text = \"I learned DBMS and NLP techniques\"\n",
    "result = kb_util.fix(input_text)\n",
    "print(result)\n",
    "# Output: I will text you when you are back talk to you later"
   ]
  },
  {
   "cell_type": "code",
   "execution_count": null,
   "metadata": {},
   "outputs": [],
   "source": [
    "\n",
    "# Update abbreviation mappings\n",
    "new_mappings = {\n",
    "    \"ttyl\": \"talk to you later\",\n",
    "    \"txt\": \"text\",   \n",
    "}\n",
    "\n",
    "kb_util.update_abbreviations(new_mappings)"
   ]
  },
  {
   "cell_type": "code",
   "execution_count": 2,
   "metadata": {},
   "outputs": [
    {
     "data": {
      "text/plain": [
       "['dns',\n",
       " 'dbms',\n",
       " 'llm',\n",
       " 'gnn',\n",
       " 'aws',\n",
       " 'amazon aws',\n",
       " 'gcp',\n",
       " 'google cloud',\n",
       " 'angularjs',\n",
       " 'oop',\n",
       " 'ms-access',\n",
       " 'microsoft access',\n",
       " 'access',\n",
       " 'ms-excel',\n",
       " 'microsoft excel',\n",
       " 'excel',\n",
       " 'ms-word',\n",
       " 'microsoft word',\n",
       " 'MS-PowerPoint',\n",
       " 'microsoft powerpoint',\n",
       " 'powerPoint',\n",
       " 'ms office',\n",
       " 'microsoft office',\n",
       " 'office',\n",
       " 'ms-visio',\n",
       " 'microsoft visio',\n",
       " 'visio',\n",
       " 'ms-outlook',\n",
       " 'microsoft outlook',\n",
       " 'outlook',\n",
       " 'ms-project',\n",
       " 'microsoft project',\n",
       " 'pl-sql',\n",
       " 'pl-sql programming',\n",
       " 'sql server 2010',\n",
       " 'sql server',\n",
       " 'go lang',\n",
       " 'nlp',\n",
       " 'iot']"
      ]
     },
     "execution_count": 2,
     "metadata": {},
     "output_type": "execute_result"
    }
   ],
   "source": [
    "kb_util.get_abbreviations()"
   ]
  }
 ],
 "metadata": {
  "kernelspec": {
   "display_name": "base",
   "language": "python",
   "name": "python3"
  },
  "language_info": {
   "codemirror_mode": {
    "name": "ipython",
    "version": 3
   },
   "file_extension": ".py",
   "mimetype": "text/x-python",
   "name": "python",
   "nbconvert_exporter": "python",
   "pygments_lexer": "ipython3",
   "version": "3.11.8"
  }
 },
 "nbformat": 4,
 "nbformat_minor": 2
}
