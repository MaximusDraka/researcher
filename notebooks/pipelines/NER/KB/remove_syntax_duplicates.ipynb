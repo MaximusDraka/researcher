{
 "cells": [
  {
   "cell_type": "code",
   "execution_count": 1,
   "metadata": {},
   "outputs": [],
   "source": [
    "import sys\n",
    "import spacy\n",
    "import os\n",
    "\n",
    "from dotenv import load_dotenv\n",
    "project_dir = os.getenv(\"PROJECT_PATH\")\n",
    "\n",
    "sys.path.insert(1, project_dir + '/utils/')\n",
    "sys.path.insert(2, project_dir + '/utils/neo4j/')\n",
    "\n",
    "import kb_util\n",
    "\n",
    "from connection import Neo4jConnection\n",
    "import query as query\n",
    "\n",
    "def search_matching_skill(skill, skills, threshold=0.5):    \n",
    "    \n",
    "    search = nlp(skill)    \n",
    "    high_score = 0\n",
    "    term = \"\"\n",
    "\n",
    "    for elem in skills:\n",
    "        match = nlp(elem)\n",
    "            \n",
    "        score = search.similarity(match)\n",
    "        \n",
    "        if score > high_score:\n",
    "            high_score = score\n",
    "            term = match\n",
    "    \n",
    "    if high_score > threshold:\n",
    "        return search, term, high_score\n",
    "    else:\n",
    "        return None, None, 0  \n",
    "\n",
    "\n",
    "def clean_skill_list(found_skills, skills, threshold=0.5):\n",
    "    \n",
    "    found_skills = [x.lower() for x in found_skills]\n",
    "    skills = [x.lower() for x in skills]    \n",
    "    new_set= set()\n",
    "    \n",
    "    for found_skill in found_skills:    \n",
    "   \n",
    "        search, term, high_score = search_matching_skill(found_skill, skills, threshold)\n",
    "        if high_score > 0:\n",
    "            if high_score == 1.0:\n",
    "                #print(\"Found in KB\", found_skill)           \n",
    "                new_set.add(found_skill)\n",
    "            else:\n",
    "                #print(search, \"<->\", term, \"==\", high_score)              \n",
    "                new_set.add(term.text)   \n",
    "\n",
    "    return new_set\n",
    "\n",
    "\n",
    "nlp = spacy.load(\"en_core_web_lg\")  # make sure to use larger package!\n",
    "\n",
    "conn = Neo4jConnection(uri=os.getenv(\"DB_URI\"), \n",
    "                    user=os.getenv(\"DB_USERNAME\"),              \n",
    "                    pwd=os.getenv(\"DB_PASSWORD\"))\n",
    "\n",
    "skills = query.get_all_skills(conn)"
   ]
  },
  {
   "cell_type": "code",
   "execution_count": 32,
   "metadata": {},
   "outputs": [
    {
     "name": "stderr",
     "output_type": "stream",
     "text": [
      "C:\\Users\\tom\\AppData\\Local\\Temp\\ipykernel_15844\\2653724992.py:21: UserWarning: [W008] Evaluating Doc.similarity based on empty vectors.\n",
      "  score = search.similarity(match)\n"
     ]
    },
    {
     "name": "stdout",
     "output_type": "stream",
     "text": [
      "{'c++', 'python', 'word'}\n"
     ]
    }
   ],
   "source": [
    "found_skills = [\"Python 3.2\", \"MS Word\", \"Microsoft Word\", \"c++\"]\n",
    "\n",
    "print(clean_skill_list(found_skills, skills, 0.6))"
   ]
  }
 ],
 "metadata": {
  "kernelspec": {
   "display_name": "base",
   "language": "python",
   "name": "python3"
  },
  "language_info": {
   "codemirror_mode": {
    "name": "ipython",
    "version": 3
   },
   "file_extension": ".py",
   "mimetype": "text/x-python",
   "name": "python",
   "nbconvert_exporter": "python",
   "pygments_lexer": "ipython3",
   "version": "3.11.8"
  }
 },
 "nbformat": 4,
 "nbformat_minor": 2
}
