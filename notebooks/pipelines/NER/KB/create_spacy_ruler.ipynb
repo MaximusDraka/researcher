{
 "cells": [
  {
   "cell_type": "code",
   "execution_count": null,
   "metadata": {},
   "outputs": [],
   "source": [
    "#Create KB\n",
    "nlp = English()\n",
    "ruler = nlp.add_pipe(\"entity_ruler\", config={\"phrase_matcher_attr\": \"LOWER\"})\n",
    "ruler.add_patterns(create_patterns(skill_without_duplicates,\"SKILL\")) \n",
    "ruler.to_disk(\"./skill_patterns.jsonl\")\n",
    "\n",
    "#Use KB\n",
    "ruler.from_disk(\"./skill_patterns.jsonl\")\n",
    "doc = nlp(\"I programme with JavaScript, C++ and Python. I also know how to use SQLite.\")\n",
    "displacy.render(doc, style=\"ent\", jupyter=True)"
   ]
  }
 ],
 "metadata": {
  "language_info": {
   "name": "python"
  }
 },
 "nbformat": 4,
 "nbformat_minor": 2
}
