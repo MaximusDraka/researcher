{
 "cells": [
  {
   "cell_type": "code",
   "execution_count": 7,
   "metadata": {},
   "outputs": [
    {
     "name": "stdout",
     "output_type": "stream",
     "text": [
      "vaia-data-NER.csv 70\n",
      "vaia-data.csv 123\n",
      "indeed-data-DA.csv 273\n",
      "indeed-data-DE.csv 89\n",
      "indeed-data-DS.csv 85\n",
      "livecareer-data-DA.csv 105\n",
      "livecareer-data-DE.csv 70\n",
      "livecareer-data-DS.csv 70\n"
     ]
    }
   ],
   "source": [
    "import pandas as pd\n",
    "import json\n",
    "\n",
    "input_files = [\"vaia-data-NER.csv\", \n",
    "               \"vaia-data.csv\",\n",
    "               \"indeed-data-DA.csv\",\n",
    "              \"indeed-data-DE.csv\",\n",
    "              \"indeed-data-DS.csv\",\n",
    "               \"livecareer-data-DA.csv\",\n",
    "               \"livecareer-data-DE.csv\",\n",
    "               \"livecareer-data-DS.csv\"]\n",
    "\n",
    "output_file_test = \"pre-train-data.jsonl\"\n",
    "\n",
    "out_content = []\n",
    "\n",
    "for source_file in input_files:\n",
    "    \n",
    "    print(source_file, len(df))\n",
    "\n",
    "    df = pd.read_csv(source_file,delimiter='|')\n",
    "    \n",
    "    df['data'] = df['data'].replace('\\n', ' ')\n",
    "    \n",
    "    df['text'] = df['data'].apply(lambda x: {\"text\": x})\n",
    "    \n",
    "    out_content.extend(df['text'].tolist())\n",
    "       \n",
    "\n",
    "with open(output_file_test, 'w') as f:\n",
    "    for item in out_content:\n",
    "        f.write(json.dumps(item) + '\\n')"
   ]
  }
 ],
 "metadata": {
  "kernelspec": {
   "display_name": "base",
   "language": "python",
   "name": "python3"
  },
  "language_info": {
   "codemirror_mode": {
    "name": "ipython",
    "version": 3
   },
   "file_extension": ".py",
   "mimetype": "text/x-python",
   "name": "python",
   "nbconvert_exporter": "python",
   "pygments_lexer": "ipython3",
   "version": "3.11.8"
  }
 },
 "nbformat": 4,
 "nbformat_minor": 2
}
