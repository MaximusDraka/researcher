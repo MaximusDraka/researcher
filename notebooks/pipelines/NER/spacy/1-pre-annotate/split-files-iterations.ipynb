{
 "cells": [
  {
   "cell_type": "code",
   "execution_count": 6,
   "metadata": {},
   "outputs": [],
   "source": [
    "import pandas as pd\n",
    "import sys  \n",
    "sys.path.insert(1, 'C:/Users/tom/projects/skill-skeleton/utils/')\n",
    "\n",
    "import spacy_util\n",
    "\n",
    "#Indeed = 90\n",
    "#livecareer = 70\n",
    "\n",
    "df = pd.read_csv(\"livecareer-data-DE.csv\",delimiter='|')\n",
    "\n",
    "#split data\n",
    "df[:30].to_csv(\"livecareer-data-DE-IT1.csv\",sep='|',index=False, encoding='utf-8')\n",
    "df[30:50].to_csv(\"livecareer-data-DE-IT2.csv\",sep='|',index=False, encoding='utf-8')\n",
    "df[50:].to_csv(\"livecareer-data-DE-IT3.csv\",sep='|',index=False, encoding='utf-8')\n"
   ]
  }
 ],
 "metadata": {
  "kernelspec": {
   "display_name": "base",
   "language": "python",
   "name": "python3"
  },
  "language_info": {
   "codemirror_mode": {
    "name": "ipython",
    "version": 3
   },
   "file_extension": ".py",
   "mimetype": "text/x-python",
   "name": "python",
   "nbconvert_exporter": "python",
   "pygments_lexer": "ipython3",
   "version": "3.11.8"
  }
 },
 "nbformat": 4,
 "nbformat_minor": 2
}
