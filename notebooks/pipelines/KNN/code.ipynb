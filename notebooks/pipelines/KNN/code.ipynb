{
 "cells": [
  {
   "cell_type": "code",
   "execution_count": 27,
   "metadata": {},
   "outputs": [
    {
     "name": "stdout",
     "output_type": "stream",
     "text": [
      "Courses to learn: AI\n",
      "                                               title\n",
      "2    AI for Sustainable &amp; Responsible Innovation\n",
      "6    AI for Sustainable &amp; Responsible Innovation\n",
      "1         ELA AI Triangle Workshop on Process Mining\n",
      "5         ELA AI Triangle Workshop on Process Mining\n",
      "0        CALCULUS, on natural language understanding\n",
      "3  Getting started with NVivo for qualitative dat...\n",
      "4        CALCULUS, on natural language understanding\n",
      "7  Getting started with NVivo for qualitative dat...\n",
      "8           Becoming an Olympian in Sports Analytics\n",
      "9  Fast and Stable Roots of Polynomials via Compa...\n"
     ]
    }
   ],
   "source": [
    "import pandas as pd\n",
    "from sklearn.feature_extraction.text import TfidfVectorizer\n",
    "from sklearn.metrics.pairwise import linear_kernel\n",
    "\n",
    "# Function that takes in skills to learn as input and outputs best courses to learn\n",
    "def get_recommendations(indices: pd.Series, skills_to_learn: str, cosine_sim: any) -> list:\n",
    "    idx = indices[skills_to_learn]\n",
    "    sim_scores = list(enumerate(cosine_sim[idx]))\n",
    "    sim_scores = sorted(sim_scores, key=lambda x: x[1], reverse=True)\n",
    "    sim_scores = sim_scores[1:11]  \n",
    "   \n",
    "    return [i[0] for i in sim_scores]\n",
    "\n",
    "\n",
    "# Load the data\n",
    "df = pd.read_csv(\"vaia-webside-en-1.csv\",delimiter='|')\n",
    "#Obtain skills to learn\n",
    "skills_to_learn = 'AI'\n",
    "\n",
    "\n",
    "#Only take English language\n",
    "df_en = df[df['language'] == 'English']\n",
    "df_en = df_en.reset_index()\n",
    "\n",
    "df_en = df_en[['title']]\n",
    "\n",
    "#Add skills to learn from profile to the dataframe\n",
    "new_record = pd.DataFrame([{'title':skills_to_learn}])\n",
    "                            \n",
    "df_full = pd.concat([df_en, new_record], ignore_index=True)\n",
    "\n",
    "tfidf = TfidfVectorizer(stop_words='english')\n",
    "#df_en['title'] = df_en['title'].fillna('')\n",
    "tfidf_matrix = tfidf.fit_transform(df_full['title'])\n",
    "cosine_sim = linear_kernel(tfidf_matrix, tfidf_matrix)\n",
    "indices = pd.Series(df_full.index, index=df_full['title']).drop_duplicates()\n",
    "\n",
    "print('Courses to learn: ' + skills_to_learn)\n",
    "print(df_full.iloc[get_recommendations(indices,skills_to_learn,cosine_sim)])\n"
   ]
  }
 ],
 "metadata": {
  "kernelspec": {
   "display_name": "base",
   "language": "python",
   "name": "python3"
  },
  "language_info": {
   "name": "python",
   "version": "3.10.13"
  }
 },
 "nbformat": 4,
 "nbformat_minor": 2
}
