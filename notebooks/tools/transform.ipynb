{
 "cells": [
  {
   "cell_type": "code",
   "execution_count": 1,
   "metadata": {},
   "outputs": [
    {
     "name": "stdout",
     "output_type": "stream",
     "text": [
      "          profile  count  max  coverage  total_score\n",
      "0    Data Analyst      5   96  5.208333   116.216216\n",
      "1  Data Scientist      3   99  3.030303    36.470588\n",
      "2   Data Engineer      4  148  2.702703    62.500000\n"
     ]
    }
   ],
   "source": [
    "import pandas as pd\n",
    "\n",
    "dict = {\"profile\": {\"0\": \"Data Analyst\", \"1\": \"Data Scientist\", \"2\": \"Data Engineer\"}, \"count\": {\"0\": 5, \"1\": 3, \"2\": 4}, \"max\": {\"0\": 96, \"1\": 99, \"2\": 148}, \"coverage\": {\"0\": 5.208333333333334, \"1\": 3.0303030303030303, \"2\": 2.7027027027027026}, \"total_score\": {\"0\": 116.21621621621621, \"1\": 36.470588235294116, \"2\": 62.5}}\n",
    "df = pd.DataFrame(dict)\n",
    "\n",
    "print(df)"
   ]
  },
  {
   "cell_type": "code",
   "execution_count": 2,
   "metadata": {},
   "outputs": [
    {
     "name": "stdout",
     "output_type": "stream",
     "text": [
      "                                               title  \\\n",
      "0    Getting Started with Python for Data Scientists   \n",
      "1  Leverage your R Skills: Data Wrangling &amp; P...   \n",
      "2                       Machine Learning with Python   \n",
      "3  Keeping things private: Exploring open-source ...   \n",
      "4                     High Dimensional Data Analysis   \n",
      "\n",
      "                                                 url  total  \n",
      "0  https://www.vaia.be/en/courses/getting-started...      2  \n",
      "1  https://www.vaia.be/en/courses/leverage-your-r...      2  \n",
      "2  https://www.vaia.be/en/courses/module-12-machi...      2  \n",
      "3  https://www.vaia.be/en/courses/keeping-things-...      2  \n",
      "4  https://www.vaia.be/en/courses/high-dimensiona...      1  \n"
     ]
    }
   ],
   "source": [
    "dict2 = {\"title\": {\"0\": \"Getting Started with Python for Data Scientists\", \"1\": \"Leverage your R Skills: Data Wrangling &amp; Plotting with Tidyverse\", \"2\": \"Machine Learning with Python\", \"3\": \"Keeping things private: Exploring open-source large language models for sensitive text data\", \"4\": \"High Dimensional Data Analysis\"}, \"url\": {\"0\": \"https://www.vaia.be/en/courses/getting-started-with-python-for-data-scientists\", \"1\": \"https://www.vaia.be/en/courses/leverage-your-r-skills-data-wrangling-plotting-with-tidyverse\", \"2\": \"https://www.vaia.be/en/courses/module-12-machine-learning-with-python\", \"3\": \"https://www.vaia.be/en/courses/keeping-things-private-exploring-open-source-large-language-models-for-sensitive-text-data\", \"4\": \"https://www.vaia.be/en/courses/high-dimensional-data-analysis\"}, \"total\": {\"0\": 2, \"1\": 2, \"2\": 2, \"3\": 2, \"4\": 1}}\n",
    "df2 = pd.DataFrame(dict2)\n",
    "print(df2)"
   ]
  }
 ],
 "metadata": {
  "kernelspec": {
   "display_name": "machinelearning",
   "language": "python",
   "name": "python3"
  },
  "language_info": {
   "codemirror_mode": {
    "name": "ipython",
    "version": 3
   },
   "file_extension": ".py",
   "mimetype": "text/x-python",
   "name": "python",
   "nbconvert_exporter": "python",
   "pygments_lexer": "ipython3",
   "version": "3.11.8"
  }
 },
 "nbformat": 4,
 "nbformat_minor": 2
}
