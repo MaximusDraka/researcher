{
 "cells": [
  {
   "cell_type": "code",
   "execution_count": 1,
   "metadata": {},
   "outputs": [
    {
     "name": "stdout",
     "output_type": "stream",
     "text": [
      "--------config.ini file found at  C:\\Users\\tom\\projects\\skill-skeleton/config.ini\n",
      "2024-03-10 23:37:52,497 | INFO | This is an info message!\n",
      "2024-03-10 23:37:52,498 | ERROR | This is an error message.\n",
      "2024-03-10 23:37:52,499 | WARNING | This is a warning message.\n",
      "2024-03-10 23:37:52,500 | CRITICAL | This is a critical message.\n",
      "{\n",
      "    \"date\": \"2024-03-10 23:37:52,497\",\n",
      "    \"type\": \"INFO\",\n",
      "    \"message\": \"This is an info message!\"\n",
      "}\n",
      "{\n",
      "    \"date\": \"2024-03-10 23:37:52,498\",\n",
      "    \"type\": \"ERROR\",\n",
      "    \"message\": \"This is an error message.\"\n",
      "}\n",
      "{\n",
      "    \"date\": \"2024-03-10 23:37:52,499\",\n",
      "    \"type\": \"WARNING\",\n",
      "    \"message\": \"This is a warning message.\"\n",
      "}\n",
      "{\n",
      "    \"date\": \"2024-03-10 23:37:52,500\",\n",
      "    \"type\": \"CRITICAL\",\n",
      "    \"message\": \"This is a critical message.\"\n",
      "}\n"
     ]
    }
   ],
   "source": [
    "import sys\n",
    "sys.path.insert(1, 'C:/Users/tom/projects/skill-skeleton/utils/')\n",
    "sys.path.insert(2, 'C:/Users/tom/projects/skill-skeleton/')\n",
    "import json\n",
    "import logger_util\n",
    "import setup\n",
    "\n",
    "config = setup.read_config()\n",
    "log_config = config[\"LOG\"]\n",
    "\n",
    "app_logger = logger_util.logger_util(log_config[\"file\"])\n",
    "\n",
    "app_logger.logger.info('This is an info message!')\n",
    "app_logger.logger.error('This is an error message.')\n",
    "app_logger.logger.debug('This is an debug message.')\n",
    "app_logger.logger.warning('This is a warning message.')\n",
    "app_logger.logger.critical('This is a critical message.')\n",
    "\n",
    "\n",
    "data = app_logger.read_log_as_json()\n",
    "for entry in data:\n",
    "    print(json.dumps(entry, indent=4))\n"
   ]
  }
 ],
 "metadata": {
  "kernelspec": {
   "display_name": "base",
   "language": "python",
   "name": "python3"
  },
  "language_info": {
   "codemirror_mode": {
    "name": "ipython",
    "version": 3
   },
   "file_extension": ".py",
   "mimetype": "text/x-python",
   "name": "python",
   "nbconvert_exporter": "python",
   "pygments_lexer": "ipython3",
   "version": "3.11.8"
  }
 },
 "nbformat": 4,
 "nbformat_minor": 2
}
