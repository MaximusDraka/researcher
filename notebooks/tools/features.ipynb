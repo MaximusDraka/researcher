{
 "cells": [
  {
   "cell_type": "code",
   "execution_count": 4,
   "metadata": {},
   "outputs": [
    {
     "name": "stdout",
     "output_type": "stream",
     "text": [
      "    Name  Age  PHP  Java  Pandas\n",
      "0   John   28    1     1       0\n",
      "1   Anna   24    1     0       1\n",
      "2  Peter   22    0     1       0\n"
     ]
    }
   ],
   "source": [
    "import pandas as pd\n",
    "\n",
    "# Create a dictionary\n",
    "\n",
    "skills = ['PHP','Java','Pandas']\n",
    "\n",
    "data = {\n",
    "    'Name': ['John', 'Anna', 'Peter'],\n",
    "    'Age': [28, 24, 22],\n",
    "    'skills': [['PHP','Java'],['PHP','Pandas'],['Java']],\n",
    "}\n",
    "\n",
    "# Create DataFrame\n",
    "df = pd.DataFrame(data)\n",
    "\n",
    "for skill in skills:\n",
    "    df[skill] = df['skills'].apply(lambda x: 1 if skill in x else 0)\n",
    "\n",
    "\n",
    "final = df.drop('skills', axis=1)\n",
    "\n",
    "# Print DataFrame\n",
    "print(final)\n"
   ]
  }
 ],
 "metadata": {
  "kernelspec": {
   "display_name": "base",
   "language": "python",
   "name": "python3"
  },
  "language_info": {
   "codemirror_mode": {
    "name": "ipython",
    "version": 3
   },
   "file_extension": ".py",
   "mimetype": "text/x-python",
   "name": "python",
   "nbconvert_exporter": "python",
   "pygments_lexer": "ipython3",
   "version": "3.11.8"
  }
 },
 "nbformat": 4,
 "nbformat_minor": 2
}
