{
 "cells": [
  {
   "cell_type": "code",
   "execution_count": null,
   "metadata": {},
   "outputs": [],
   "source": [
    "import sys\n",
    "import os\n",
    "from dotenv import load_dotenv\n",
    "project_dir = os.getenv(\"PROJECT_PATH\")\n",
    "\n",
    "sys.path.insert(1, project_dir + '/utils/')\n",
    "sys.path.insert(2, project_dir + '/utils/neo4j/')\n",
    "\n",
    "from connection import Neo4jConnection\n",
    "\n",
    "\n",
    "def replace_skills(from_skill: str, to_skill: str):       \n",
    "       \n",
    "    parameters = {'from_skill': from_skill,\n",
    "                'to_skill': to_skill\n",
    "                }\n",
    "\n",
    "    query_string = '''\n",
    "   \n",
    "    '''\n",
    "    \n",
    "    conn.query(query_string,parameters=parameters)\n",
    "\n",
    "\n",
    "conn = Neo4jConnection(uri=os.getenv(\"DB_URI\"), \n",
    "                    user=os.getenv(\"DB_USERNAME\"),              \n",
    "                    pwd=os.getenv(\"DB_PASSWORD\"))"
   ]
  },
  {
   "cell_type": "code",
   "execution_count": null,
   "metadata": {},
   "outputs": [],
   "source": [
    "# 2 skills are considered the same and we want to merge all relationships from skill A to the skills B\n",
    "\n",
    "# Loop over relationships having skill A : ANY type\n",
    "# Update the skill of the relationship\n",
    "\n",
    "MATCH (s:Skill {name: 'ms word'})-[r]-() RETURN r\n",
    "SET s.name = 'microsoft word'\n",
    "    \n",
    "    \n",
    "\n",
    "\n",
    "# afterwards we can remove skill A + relationships\n",
    "MATCH (s:Skill {name: 'ms word'}) DETACH DELETE s\n",
    "\n",
    "# recalculate the skill score as it will be different\n",
    "#TODO write code\n",
    "\n",
    "# re-create the matcher as we will have different skills in the DB\n",
    "#TODO write code\n",
    "\n",
    "# Clean-up abbreviations manually"
   ]
  }
 ],
 "metadata": {
  "language_info": {
   "name": "python"
  }
 },
 "nbformat": 4,
 "nbformat_minor": 2
}
