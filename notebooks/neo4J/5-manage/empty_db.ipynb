{
 "cells": [
  {
   "cell_type": "code",
   "execution_count": 1,
   "metadata": {},
   "outputs": [],
   "source": [
    "import sys\n",
    "sys.path.insert(1, 'C:/Users/tom/projects/skill-skeleton/utils/')\n",
    "sys.path.insert(2, 'C:/Users/tom/projects/skill-skeleton/utils/neo4j/')\n",
    "from connection import Neo4jConnection\n",
    "\n",
    "\n",
    "def delete_course_skill_link():\n",
    "    conn.query('MATCH (c:Course)-[e:OFFERS]->(s:Skill) delete e')\n",
    "\n",
    "\n",
    "def delete_courses():\n",
    "    conn.query('MATCH (c:Course) DETACH DELETE c')\n",
    "\n",
    "\n",
    "def delete_cv_skill_link():\n",
    "    conn.query('MATCH (cv:CV)-[e:CONTAINS]->(s:Skill) delete e')\n",
    "\n",
    "\n",
    "def delete_cv_profile_link():\n",
    "    conn.query('MATCH (cv:CV)-[e:IS]->(p:Profile) delete e')\n",
    "\n",
    "\n",
    "def delete_cvs():\n",
    "    conn.query('MATCH (cv:CV) DETACH DELETE cv')\n",
    "\n",
    "\n",
    "def delete_job_skill_link():\n",
    "    conn.query('MATCH (j:Job)-[e:CONTAINS]->(s:Skill) delete e')\n",
    "\n",
    "\n",
    "def delete_job_profile_link():\n",
    "    conn.query('MATCH (j:Job)-[e:IS]->(p:Profile) delete e')\n",
    "\n",
    "\n",
    "def delete_jobs():\n",
    "    conn.query('MATCH (j:Job) DETACH DELETE j')\n",
    "\n",
    "\n",
    "def delete_skills():       \n",
    "    conn.query('MATCH (s:Skill) DETACH DELETE s')\n",
    "\n",
    "\n",
    "def delete_profiles():       \n",
    "    conn.query('MATCH (p:Profile) DETACH DELETE p')\n",
    "\n",
    "\n",
    "conn = Neo4jConnection(uri=\"bolt://localhost:7687\", \n",
    "                       user=\"neo4j\",              \n",
    "                       pwd=\"neo4jneo4j\")     "
   ]
  },
  {
   "cell_type": "code",
   "execution_count": 2,
   "metadata": {},
   "outputs": [],
   "source": [
    "#Use Neo4J DB admin to remove the data or this code below\n",
    "\n",
    "delete_course_skill_link()\n",
    "delete_courses()\n",
    "\n",
    "delete_cv_skill_link()\n",
    "delete_cv_profile_link()\n",
    "delete_cvs()\n",
    "\n",
    "delete_job_skill_link()\n",
    "delete_job_profile_link()\n",
    "delete_jobs()\n",
    "\n",
    "delete_skills()\n",
    "delete_profiles()"
   ]
  }
 ],
 "metadata": {
  "kernelspec": {
   "display_name": "base",
   "language": "python",
   "name": "python3"
  },
  "language_info": {
   "codemirror_mode": {
    "name": "ipython",
    "version": 3
   },
   "file_extension": ".py",
   "mimetype": "text/x-python",
   "name": "python",
   "nbconvert_exporter": "python",
   "pygments_lexer": "ipython3",
   "version": "3.10.13"
  }
 },
 "nbformat": 4,
 "nbformat_minor": 2
}
