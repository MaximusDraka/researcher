{
 "cells": [
  {
   "cell_type": "code",
   "execution_count": 2,
   "metadata": {},
   "outputs": [],
   "source": [
    "import sys\n",
    "sys.path.insert(1, 'C:/Users/tom/projects/skill-skeleton/utils/Neo4j')\n",
    "\n",
    "from connection import Neo4jConnection\n",
    "import query as query\n",
    "import manage as manage\n",
    "\n",
    "conn = Neo4jConnection(uri=\"bolt://localhost:7687\", \n",
    "                       user=\"neo4j\",              \n",
    "                       pwd=\"neo4jneo4j\")"
   ]
  },
  {
   "cell_type": "code",
   "execution_count": 2,
   "metadata": {},
   "outputs": [
    {
     "name": "stdout",
     "output_type": "stream",
     "text": [
      "Data Engineer\n",
      "Total objects for Data Engineer: 0\n",
      "Data Scientist\n",
      "Total objects for Data Scientist: 30\n",
      "               skill         profile      score\n",
      "64            python  Data Scientist  76.666667\n",
      "76               sql  Data Scientist  76.666667\n",
      "70  machine learning  Data Scientist  70.000000\n",
      "62       programming  Data Scientist  56.666667\n",
      "81        statistics  Data Scientist  50.000000\n",
      "..               ...             ...        ...\n",
      "11              unix  Data Scientist   3.333333\n",
      "67           windows  Data Scientist   3.333333\n",
      "68            pl/sql  Data Scientist   3.333333\n",
      "71           jenkins  Data Scientist   3.333333\n",
      "54              jdbc  Data Scientist   3.333333\n",
      "\n",
      "[108 rows x 3 columns]\n",
      "{'rows': [{'skill': 'training', 'profile': 'Data Scientist', 'score': 20.0}, {'skill': 'testing', 'profile': 'Data Scientist', 'score': 33.33333333333333}, {'skill': 'kubernetes', 'profile': 'Data Scientist', 'score': 6.666666666666667}, {'skill': 'nlp', 'profile': 'Data Scientist', 'score': 6.666666666666667}, {'skill': 'ggplot2', 'profile': 'Data Scientist', 'score': 3.3333333333333335}, {'skill': 'scala', 'profile': 'Data Scientist', 'score': 10.0}, {'skill': 'nosql', 'profile': 'Data Scientist', 'score': 16.666666666666664}, {'skill': 'html', 'profile': 'Data Scientist', 'score': 6.666666666666667}, {'skill': 'json', 'profile': 'Data Scientist', 'score': 3.3333333333333335}, {'skill': 'mobile applications', 'profile': 'Data Scientist', 'score': 6.666666666666667}, {'skill': 'oracle', 'profile': 'Data Scientist', 'score': 10.0}, {'skill': 'unix', 'profile': 'Data Scientist', 'score': 3.3333333333333335}, {'skill': 'seaborn', 'profile': 'Data Scientist', 'score': 3.3333333333333335}, {'skill': 'nexus', 'profile': 'Data Scientist', 'score': 3.3333333333333335}, {'skill': 'c++', 'profile': 'Data Scientist', 'score': 10.0}, {'skill': 'data mining', 'profile': 'Data Scientist', 'score': 10.0}, {'skill': 'data governance', 'profile': 'Data Scientist', 'score': 13.333333333333334}, {'skill': 'redshift', 'profile': 'Data Scientist', 'score': 3.3333333333333335}, {'skill': 'mssql', 'profile': 'Data Scientist', 'score': 3.3333333333333335}, {'skill': 'clustering', 'profile': 'Data Scientist', 'score': 13.333333333333334}, {'skill': 'microsoft', 'profile': 'Data Scientist', 'score': 23.333333333333332}, {'skill': 'sap', 'profile': 'Data Scientist', 'score': 6.666666666666667}, {'skill': 'mysql', 'profile': 'Data Scientist', 'score': 10.0}, {'skill': 'etl', 'profile': 'Data Scientist', 'score': 6.666666666666667}, {'skill': 'plotly', 'profile': 'Data Scientist', 'score': 3.3333333333333335}, {'skill': 'kafka', 'profile': 'Data Scientist', 'score': 3.3333333333333335}, {'skill': 'scikit-learn', 'profile': 'Data Scientist', 'score': 13.333333333333334}, {'skill': 'php', 'profile': 'Data Scientist', 'score': 3.3333333333333335}, {'skill': 'perl', 'profile': 'Data Scientist', 'score': 3.3333333333333335}, {'skill': 'e-commerce', 'profile': 'Data Scientist', 'score': 6.666666666666667}, {'skill': 'cloud computing', 'profile': 'Data Scientist', 'score': 6.666666666666667}, {'skill': 'mxnet', 'profile': 'Data Scientist', 'score': 3.3333333333333335}, {'skill': 'teradata', 'profile': 'Data Scientist', 'score': 3.3333333333333335}, {'skill': 'tensorflow', 'profile': 'Data Scientist', 'score': 13.333333333333334}, {'skill': 'algorithms', 'profile': 'Data Scientist', 'score': 36.666666666666664}, {'skill': 'llm', 'profile': 'Data Scientist', 'score': 3.3333333333333335}, {'skill': 'apache', 'profile': 'Data Scientist', 'score': 6.666666666666667}, {'skill': 'project management', 'profile': 'Data Scientist', 'score': 3.3333333333333335}, {'skill': 'css', 'profile': 'Data Scientist', 'score': 6.666666666666667}, {'skill': 'hive', 'profile': 'Data Scientist', 'score': 10.0}, {'skill': 'databricks', 'profile': 'Data Scientist', 'score': 6.666666666666667}, {'skill': 'optimization', 'profile': 'Data Scientist', 'score': 20.0}, {'skill': 'pandas', 'profile': 'Data Scientist', 'score': 10.0}, {'skill': 'data warehousing', 'profile': 'Data Scientist', 'score': 6.666666666666667}, {'skill': 'agile', 'profile': 'Data Scientist', 'score': 30.0}, {'skill': 'numpy', 'profile': 'Data Scientist', 'score': 10.0}, {'skill': 'sharepoint', 'profile': 'Data Scientist', 'score': 3.3333333333333335}, {'skill': 'aws', 'profile': 'Data Scientist', 'score': 13.333333333333334}, {'skill': 'scrum', 'profile': 'Data Scientist', 'score': 3.3333333333333335}, {'skill': 'resource allocation', 'profile': 'Data Scientist', 'score': 3.3333333333333335}, {'skill': 'postgresql', 'profile': 'Data Scientist', 'score': 3.3333333333333335}, {'skill': 'linux', 'profile': 'Data Scientist', 'score': 6.666666666666667}, {'skill': 'operations', 'profile': 'Data Scientist', 'score': 30.0}, {'skill': 'alteryx', 'profile': 'Data Scientist', 'score': 6.666666666666667}, {'skill': 'jdbc', 'profile': 'Data Scientist', 'score': 3.3333333333333335}, {'skill': 'keras', 'profile': 'Data Scientist', 'score': 6.666666666666667}, {'skill': 'google cloud platform', 'profile': 'Data Scientist', 'score': 3.3333333333333335}, {'skill': 'content', 'profile': 'Data Scientist', 'score': 3.3333333333333335}, {'skill': 'big data', 'profile': 'Data Scientist', 'score': 16.666666666666664}, {'skill': 'git', 'profile': 'Data Scientist', 'score': 3.3333333333333335}, {'skill': 'go', 'profile': 'Data Scientist', 'score': 3.3333333333333335}, {'skill': 'salesforce', 'profile': 'Data Scientist', 'score': 3.3333333333333335}, {'skill': 'programming', 'profile': 'Data Scientist', 'score': 56.666666666666664}, {'skill': 'data-driven decision-making', 'profile': 'Data Scientist', 'score': 3.3333333333333335}, {'skill': 'python', 'profile': 'Data Scientist', 'score': 76.66666666666667}, {'skill': 'phoenix', 'profile': 'Data Scientist', 'score': 3.3333333333333335}, {'skill': 'modeling', 'profile': 'Data Scientist', 'score': 40.0}, {'skill': 'windows', 'profile': 'Data Scientist', 'score': 3.3333333333333335}, {'skill': 'pl/sql', 'profile': 'Data Scientist', 'score': 3.3333333333333335}, {'skill': 'spark', 'profile': 'Data Scientist', 'score': 33.33333333333333}, {'skill': 'machine learning', 'profile': 'Data Scientist', 'score': 70.0}, {'skill': 'jenkins', 'profile': 'Data Scientist', 'score': 3.3333333333333335}, {'skill': 'networking', 'profile': 'Data Scientist', 'score': 10.0}, {'skill': 'data modeling', 'profile': 'Data Scientist', 'score': 16.666666666666664}, {'skill': 'power bi', 'profile': 'Data Scientist', 'score': 16.666666666666664}, {'skill': 'team player', 'profile': 'Data Scientist', 'score': 10.0}, {'skill': 'sql', 'profile': 'Data Scientist', 'score': 76.66666666666667}, {'skill': 'automation', 'profile': 'Data Scientist', 'score': 3.3333333333333335}, {'skill': 'natural language processing', 'profile': 'Data Scientist', 'score': 16.666666666666664}, {'skill': 'cassandra', 'profile': 'Data Scientist', 'score': 6.666666666666667}, {'skill': 'java', 'profile': 'Data Scientist', 'score': 16.666666666666664}, {'skill': 'statistics', 'profile': 'Data Scientist', 'score': 50.0}, {'skill': 'azure', 'profile': 'Data Scientist', 'score': 16.666666666666664}, {'skill': 'dax', 'profile': 'Data Scientist', 'score': 3.3333333333333335}, {'skill': 'data analysis', 'profile': 'Data Scientist', 'score': 30.0}, {'skill': 'artificial intelligence', 'profile': 'Data Scientist', 'score': 20.0}, {'skill': 'pytorch', 'profile': 'Data Scientist', 'score': 10.0}, {'skill': 'data structures', 'profile': 'Data Scientist', 'score': 6.666666666666667}, {'skill': 'data driven', 'profile': 'Data Scientist', 'score': 13.333333333333334}, {'skill': 'data cleaning', 'profile': 'Data Scientist', 'score': 6.666666666666667}, {'skill': 'docker', 'profile': 'Data Scientist', 'score': 6.666666666666667}, {'skill': 'deep learning', 'profile': 'Data Scientist', 'score': 10.0}, {'skill': 'gitlab', 'profile': 'Data Scientist', 'score': 3.3333333333333335}, {'skill': 'gcp', 'profile': 'Data Scientist', 'score': 6.666666666666667}, {'skill': 'r', 'profile': 'Data Scientist', 'score': 26.666666666666668}, {'skill': 'time series forecasting', 'profile': 'Data Scientist', 'score': 3.3333333333333335}, {'skill': 'statistical analysis', 'profile': 'Data Scientist', 'score': 16.666666666666664}, {'skill': 'qlik', 'profile': 'Data Scientist', 'score': 3.3333333333333335}, {'skill': 'pyspark', 'profile': 'Data Scientist', 'score': 6.666666666666667}, {'skill': 'iot', 'profile': 'Data Scientist', 'score': 6.666666666666667}, {'skill': 'problem solving', 'profile': 'Data Scientist', 'score': 6.666666666666667}, {'skill': 'hadoop', 'profile': 'Data Scientist', 'score': 20.0}, {'skill': 'exchange', 'profile': 'Data Scientist', 'score': 10.0}, {'skill': 'javascript', 'profile': 'Data Scientist', 'score': 3.3333333333333335}, {'skill': 'sas', 'profile': 'Data Scientist', 'score': 6.666666666666667}, {'skill': 'shell', 'profile': 'Data Scientist', 'score': 3.3333333333333335}, {'skill': 'tableau', 'profile': 'Data Scientist', 'score': 26.666666666666668}, {'skill': 'visualization', 'profile': 'Data Scientist', 'score': 30.0}]}\n",
      "{'total': 108, 'batches': 1, 'time': 0.01100301742553711}\n",
      "Data Analyst\n",
      "Total objects for Data Analyst: 20\n",
      "                       skill       profile  score\n",
      "78                     excel  Data Analyst   80.0\n",
      "82                 microsoft  Data Analyst   70.0\n",
      "38                  training  Data Analyst   60.0\n",
      "49              spreadsheets  Data Analyst   50.0\n",
      "80                       sql  Data Analyst   45.0\n",
      "..                       ...           ...    ...\n",
      "71   microsoft visual studio  Data Analyst    5.0\n",
      "23           design patterns  Data Analyst    5.0\n",
      "22                     cisco  Data Analyst    5.0\n",
      "74              inside sales  Data Analyst    5.0\n",
      "103                  mongodb  Data Analyst    5.0\n",
      "\n",
      "[104 rows x 3 columns]\n",
      "{'rows': [{'skill': 'html', 'profile': 'Data Analyst', 'score': 15.0}, {'skill': 'optimization', 'profile': 'Data Analyst', 'score': 15.0}, {'skill': 'program management', 'profile': 'Data Analyst', 'score': 5.0}, {'skill': 'scrum', 'profile': 'Data Analyst', 'score': 10.0}, {'skill': 'algorithms', 'profile': 'Data Analyst', 'score': 5.0}, {'skill': 'lan/wan', 'profile': 'Data Analyst', 'score': 10.0}, {'skill': 'flask', 'profile': 'Data Analyst', 'score': 5.0}, {'skill': 'data analysis', 'profile': 'Data Analyst', 'score': 20.0}, {'skill': 'mobile applications', 'profile': 'Data Analyst', 'score': 5.0}, {'skill': 'jira', 'profile': 'Data Analyst', 'score': 5.0}, {'skill': 'project management', 'profile': 'Data Analyst', 'score': 25.0}, {'skill': 'json', 'profile': 'Data Analyst', 'score': 5.0}, {'skill': 'crm', 'profile': 'Data Analyst', 'score': 10.0}, {'skill': 'unix', 'profile': 'Data Analyst', 'score': 5.0}, {'skill': 'visual basic', 'profile': 'Data Analyst', 'score': 10.0}, {'skill': 'networking', 'profile': 'Data Analyst', 'score': 5.0}, {'skill': 'c', 'profile': 'Data Analyst', 'score': 25.0}, {'skill': 'exchange', 'profile': 'Data Analyst', 'score': 5.0}, {'skill': 'natural language processing', 'profile': 'Data Analyst', 'score': 5.0}, {'skill': 'html5', 'profile': 'Data Analyst', 'score': 5.0}, {'skill': 'ms office', 'profile': 'Data Analyst', 'score': 15.0}, {'skill': 'active directory', 'profile': 'Data Analyst', 'score': 5.0}, {'skill': 'cisco', 'profile': 'Data Analyst', 'score': 5.0}, {'skill': 'design patterns', 'profile': 'Data Analyst', 'score': 5.0}, {'skill': 'swift', 'profile': 'Data Analyst', 'score': 5.0}, {'skill': 'clustering', 'profile': 'Data Analyst', 'score': 5.0}, {'skill': 'sap', 'profile': 'Data Analyst', 'score': 15.0}, {'skill': 'problem solving', 'profile': 'Data Analyst', 'score': 25.0}, {'skill': 'iot', 'profile': 'Data Analyst', 'score': 5.0}, {'skill': 'powerpoint', 'profile': 'Data Analyst', 'score': 15.0}, {'skill': 'spss', 'profile': 'Data Analyst', 'score': 5.0}, {'skill': 'windows', 'profile': 'Data Analyst', 'score': 15.0}, {'skill': 'resource planning', 'profile': 'Data Analyst', 'score': 5.0}, {'skill': 'cognos', 'profile': 'Data Analyst', 'score': 5.0}, {'skill': 'dns', 'profile': 'Data Analyst', 'score': 5.0}, {'skill': 'visualization', 'profile': 'Data Analyst', 'score': 20.0}, {'skill': 'cloud computing', 'profile': 'Data Analyst', 'score': 10.0}, {'skill': 'css', 'profile': 'Data Analyst', 'score': 5.0}, {'skill': 'training', 'profile': 'Data Analyst', 'score': 60.0}, {'skill': 'snowflake', 'profile': 'Data Analyst', 'score': 5.0}, {'skill': 'outlook', 'profile': 'Data Analyst', 'score': 30.0}, {'skill': 'sql developer', 'profile': 'Data Analyst', 'score': 5.0}, {'skill': 'software development life cycle', 'profile': 'Data Analyst', 'score': 5.0}, {'skill': 'big data', 'profile': 'Data Analyst', 'score': 15.0}, {'skill': 'sharepoint', 'profile': 'Data Analyst', 'score': 20.0}, {'skill': 'r', 'profile': 'Data Analyst', 'score': 15.0}, {'skill': 'automation', 'profile': 'Data Analyst', 'score': 20.0}, {'skill': 'machine learning', 'profile': 'Data Analyst', 'score': 10.0}, {'skill': 'delphi', 'profile': 'Data Analyst', 'score': 5.0}, {'skill': 'spreadsheets', 'profile': 'Data Analyst', 'score': 50.0}, {'skill': 'qlik', 'profile': 'Data Analyst', 'score': 5.0}, {'skill': 'statistics', 'profile': 'Data Analyst', 'score': 10.0}, {'skill': 'ssis', 'profile': 'Data Analyst', 'score': 10.0}, {'skill': 'spark', 'profile': 'Data Analyst', 'score': 5.0}, {'skill': 'resource allocation', 'profile': 'Data Analyst', 'score': 5.0}, {'skill': 'apache', 'profile': 'Data Analyst', 'score': 5.0}, {'skill': 'sql server', 'profile': 'Data Analyst', 'score': 20.0}, {'skill': 'power bi', 'profile': 'Data Analyst', 'score': 10.0}, {'skill': 'content', 'profile': 'Data Analyst', 'score': 5.0}, {'skill': 'sas', 'profile': 'Data Analyst', 'score': 10.0}, {'skill': 'ms access', 'profile': 'Data Analyst', 'score': 5.0}, {'skill': 'data driven', 'profile': 'Data Analyst', 'score': 5.0}, {'skill': 'programming', 'profile': 'Data Analyst', 'score': 25.0}, {'skill': 'data warehousing', 'profile': 'Data Analyst', 'score': 10.0}, {'skill': 'visio', 'profile': 'Data Analyst', 'score': 5.0}, {'skill': 'quality assurance', 'profile': 'Data Analyst', 'score': 15.0}, {'skill': 'mysql', 'profile': 'Data Analyst', 'score': 15.0}, {'skill': 'jupyter', 'profile': 'Data Analyst', 'score': 5.0}, {'skill': 'tableau', 'profile': 'Data Analyst', 'score': 15.0}, {'skill': 'network security', 'profile': 'Data Analyst', 'score': 5.0}, {'skill': 'java', 'profile': 'Data Analyst', 'score': 10.0}, {'skill': 'microsoft visual studio', 'profile': 'Data Analyst', 'score': 5.0}, {'skill': 'crystal', 'profile': 'Data Analyst', 'score': 10.0}, {'skill': 'aws', 'profile': 'Data Analyst', 'score': 10.0}, {'skill': 'inside sales', 'profile': 'Data Analyst', 'score': 5.0}, {'skill': 'oracle', 'profile': 'Data Analyst', 'score': 10.0}, {'skill': 'android', 'profile': 'Data Analyst', 'score': 5.0}, {'skill': 'agile', 'profile': 'Data Analyst', 'score': 10.0}, {'skill': 'excel', 'profile': 'Data Analyst', 'score': 80.0}, {'skill': 'statistical analysis', 'profile': 'Data Analyst', 'score': 10.0}, {'skill': 'sql', 'profile': 'Data Analyst', 'score': 45.0}, {'skill': 'sentiment analysis', 'profile': 'Data Analyst', 'score': 5.0}, {'skill': 'microsoft', 'profile': 'Data Analyst', 'score': 70.0}, {'skill': 'testing', 'profile': 'Data Analyst', 'score': 35.0}, {'skill': 'hadoop', 'profile': 'Data Analyst', 'score': 5.0}, {'skill': 'modeling', 'profile': 'Data Analyst', 'score': 20.0}, {'skill': 'ssrs', 'profile': 'Data Analyst', 'score': 20.0}, {'skill': 'etl', 'profile': 'Data Analyst', 'score': 15.0}, {'skill': 'operations', 'profile': 'Data Analyst', 'score': 45.0}, {'skill': 'javascript', 'profile': 'Data Analyst', 'score': 10.0}, {'skill': 'team player', 'profile': 'Data Analyst', 'score': 15.0}, {'skill': 'pandas', 'profile': 'Data Analyst', 'score': 5.0}, {'skill': 'scikit-learn', 'profile': 'Data Analyst', 'score': 5.0}, {'skill': 'data modeling', 'profile': 'Data Analyst', 'score': 10.0}, {'skill': 'transact-sql', 'profile': 'Data Analyst', 'score': 5.0}, {'skill': 'python', 'profile': 'Data Analyst', 'score': 20.0}, {'skill': 'shell', 'profile': 'Data Analyst', 'score': 5.0}, {'skill': 'ms word', 'profile': 'Data Analyst', 'score': 5.0}, {'skill': 'windows xp', 'profile': 'Data Analyst', 'score': 5.0}, {'skill': 'scrum framework', 'profile': 'Data Analyst', 'score': 5.0}, {'skill': 'data mining', 'profile': 'Data Analyst', 'score': 25.0}, {'skill': 'vba', 'profile': 'Data Analyst', 'score': 5.0}, {'skill': 'nltk', 'profile': 'Data Analyst', 'score': 5.0}, {'skill': 'mongodb', 'profile': 'Data Analyst', 'score': 5.0}]}\n",
      "{'total': 104, 'batches': 1, 'time': 0.0077037811279296875}\n",
      "Business Analyst\n",
      "Total objects for Business Analyst: 0\n",
      "Software Engineer\n",
      "Total objects for Software Engineer: 0\n",
      "Machine Learning Engineer\n",
      "Total objects for Machine Learning Engineer: 0\n",
      "Cloud Engineer\n",
      "Total objects for Cloud Engineer: 0\n"
     ]
    }
   ],
   "source": [
    "manage.refresh_all_profile_skill_scores(conn)"
   ]
  },
  {
   "cell_type": "code",
   "execution_count": 3,
   "metadata": {},
   "outputs": [
    {
     "data": {
      "text/html": [
       "<div>\n",
       "<style scoped>\n",
       "    .dataframe tbody tr th:only-of-type {\n",
       "        vertical-align: middle;\n",
       "    }\n",
       "\n",
       "    .dataframe tbody tr th {\n",
       "        vertical-align: top;\n",
       "    }\n",
       "\n",
       "    .dataframe thead th {\n",
       "        text-align: right;\n",
       "    }\n",
       "</style>\n",
       "<table border=\"1\" class=\"dataframe\">\n",
       "  <thead>\n",
       "    <tr style=\"text-align: right;\">\n",
       "      <th></th>\n",
       "      <th>profile</th>\n",
       "      <th>skill</th>\n",
       "      <th>score</th>\n",
       "    </tr>\n",
       "  </thead>\n",
       "  <tbody>\n",
       "    <tr>\n",
       "      <th>0</th>\n",
       "      <td>Data Scientist</td>\n",
       "      <td>python</td>\n",
       "      <td>76.666667</td>\n",
       "    </tr>\n",
       "    <tr>\n",
       "      <th>1</th>\n",
       "      <td>Data Scientist</td>\n",
       "      <td>sql</td>\n",
       "      <td>76.666667</td>\n",
       "    </tr>\n",
       "    <tr>\n",
       "      <th>2</th>\n",
       "      <td>Data Scientist</td>\n",
       "      <td>machine learning</td>\n",
       "      <td>70.000000</td>\n",
       "    </tr>\n",
       "    <tr>\n",
       "      <th>3</th>\n",
       "      <td>Data Scientist</td>\n",
       "      <td>programming</td>\n",
       "      <td>56.666667</td>\n",
       "    </tr>\n",
       "    <tr>\n",
       "      <th>4</th>\n",
       "      <td>Data Scientist</td>\n",
       "      <td>statistics</td>\n",
       "      <td>50.000000</td>\n",
       "    </tr>\n",
       "  </tbody>\n",
       "</table>\n",
       "</div>"
      ],
      "text/plain": [
       "          profile             skill      score\n",
       "0  Data Scientist            python  76.666667\n",
       "1  Data Scientist               sql  76.666667\n",
       "2  Data Scientist  machine learning  70.000000\n",
       "3  Data Scientist       programming  56.666667\n",
       "4  Data Scientist        statistics  50.000000"
      ]
     },
     "execution_count": 3,
     "metadata": {},
     "output_type": "execute_result"
    }
   ],
   "source": [
    "query.get_skills_by_profile(conn, 'Data Scientist',min_score=33,top=5)"
   ]
  }
 ],
 "metadata": {
  "kernelspec": {
   "display_name": "base",
   "language": "python",
   "name": "python3"
  },
  "language_info": {
   "codemirror_mode": {
    "name": "ipython",
    "version": 3
   },
   "file_extension": ".py",
   "mimetype": "text/x-python",
   "name": "python",
   "nbconvert_exporter": "python",
   "pygments_lexer": "ipython3",
   "version": "3.10.13"
  }
 },
 "nbformat": 4,
 "nbformat_minor": 2
}
