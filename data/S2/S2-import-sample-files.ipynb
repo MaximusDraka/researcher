{
 "cells": [
  {
   "cell_type": "code",
   "execution_count": 2,
   "metadata": {},
   "outputs": [
    {
     "name": "stdout",
     "output_type": "stream",
     "text": [
      "{'end': 3388, 'start': 2209}\n",
      "{'end': 5285, 'start': 3390}\n",
      "{'end': 6399, 'start': 5287}\n",
      "{'end': 7206, 'start': 6401}\n",
      "{'end': 8574, 'start': 7208}\n",
      "{'end': 8964, 'start': 8576}\n",
      "{'end': 10086, 'start': 9003}\n",
      "{'end': 10696, 'start': 10088}\n",
      "{'end': 12216, 'start': 10716}\n",
      "{'end': 12479, 'start': 12218}\n",
      "{'attributes': {'ref_id': 'b0'}, 'end': 2420, 'start': 2417}\n",
      "{'attributes': {'ref_id': 'b1'}, 'end': 2423, 'start': 2420}\n",
      "{'attributes': {'ref_id': 'b2'}, 'end': 2426, 'start': 2423}\n",
      "{'attributes': {'ref_id': 'b3'}, 'end': 2689, 'start': 2686}\n",
      "{'attributes': {'ref_id': 'b4'}, 'end': 2692, 'start': 2689}\n",
      "{'attributes': {'ref_id': 'b5'}, 'end': 2695, 'start': 2692}\n",
      "{'attributes': {'ref_id': 'b6'}, 'end': 2949, 'start': 2946}\n",
      "{'attributes': {'ref_id': 'b7'}, 'end': 2952, 'start': 2949}\n",
      "{'attributes': {'ref_id': 'b8'}, 'end': 2955, 'start': 2952}\n",
      "{'attributes': {'ref_id': 'b9'}, 'end': 3116, 'start': 3112}\n",
      "{'attributes': {'doi': '10.3354/meps11686', 'id': 'b0', 'matched_paper_id': 54752046}, 'end': 61157, 'start': 60924}\n",
      "{'attributes': {'doi': '10.1007/s10750-016-3061-7', 'id': 'b1'}, 'end': 61379, 'start': 61159}\n",
      "{'attributes': {'doi': '10.1371/journal.pone.0211971', 'id': 'b2', 'matched_paper_id': 67856846}, 'end': 61530, 'start': 61381}\n",
      "{'attributes': {'doi': '10.1111/j.1523-1739.2003.00054.x', 'id': 'b3', 'matched_paper_id': 83589031}, 'end': 61710, 'start': 61532}\n",
      "{'attributes': {'doi': '10.3389/fmars.2020.00292', 'id': 'b4', 'matched_paper_id': 218676144}, 'end': 61873, 'start': 61712}\n",
      "{'attributes': {'doi': '10.3390/su14095185', 'id': 'b5'}, 'end': 62047, 'start': 61875}\n",
      "{'attributes': {'doi': '10.1016/j.marpolbul.2013.06.020', 'id': 'b6', 'matched_paper_id': 37530398}, 'end': 62247, 'start': 62049}\n",
      "{'attributes': {'doi': '10.1093/icesjms/fsu187', 'id': 'b7', 'matched_paper_id': 55421741}, 'end': 62455, 'start': 62249}\n",
      "{'attributes': {'doi': '10.1080/09524622.2017.1359670', 'id': 'b8', 'matched_paper_id': 91057654}, 'end': 62674, 'start': 62457}\n",
      "{'attributes': {'id': 'b9'}, 'end': 62794, 'start': 62676}\n",
      "['Dolphins alter their behavior and movement in response to human coastal activities (e.g., commercial shipping, dredging, ecotourism).The Port of Corpus Christi, Texas, is the largest port in the USA based on total revenue tonnage, yet little research has been conducted on the local bottlenose dolphins since the 1980s, prior to major oil exportation and infrastructure growth.The behavior and movement patterns of dolphins in the presence and absence of vessels were recorded using a shore-based digital theodolite and analyzed using multinomial logistic regression and generalized additive models.Dolphins frequently foraged, traveled, socialized, and milled in the Corpus Christi Ship Channel despite the presence of one or more vessels within 300 m of dolphins during 80% of observations.Dolphin behavior and movement patterns were significantly affected by season, time of day, group composition, and vessel characteristics.Dolphins appear to remain in the active Texas ship channel despite high vessel traffic.The observed dolphin-vessel interactions emphasize the need for long-term monitoring of dolphins near human activities and enforced boating regulations near important marine mammal habitats.']\n",
      "A multitude of anthropogenic activities in coastal environments (e.g., dredging, commercial fishing, recreational boating, tourism, commercial shipping) can alter marine mammal behavior and movement patterns [1][2][3].Vessel activity poses various risks to marine mammals including short-term behavioral disruptions that reduce foraging or resting, long-term shifts in behavior that change social structure and habitat use, and collisions resulting in physical injury or death [4][5][6].Dredging operations, tourism and recreational vessels, and the presence of many large vessels in major shipping ports and marinas contribute to increased vessel traffic and noise pollution that can change dolphin distribution and behavioral patterns [7][8][9].Knowledge of how vessel activity impacts marine mammals is crucial as human populations continue to increase along the coast and modify marine environments [10][11][12].Common bottlenose dolphins (Tursiops truncatus; henceforth \"bottlenose dolphins\") demonstrating high site fidelity to a coastal area may alter their behavior or movement patterns when vessels are present (e.g., approach or avoid a vessel) [3,4,6,[12][13][14][15].\n",
      "\n",
      "Bottlenose dolphin behavioral states can be influenced by the presence of specific types of vessels, sizes of vessels, operational speeds, and distances.When multiple types and sizes of vessels were operating within 500 m of bottlenose dolphins in the Galveston Ship Channel, Texas, the dolphins foraged and socialized infrequently [3].Bottlenose dolphin behavior in the Galveston-Bolivar ferry lane shifted from foraging to predominantly traveling when medium-sized ferries were nearby [16].Tourism and small recreational vessels that did not adhere to regulations altered dolphin behavior and habitat use, indicating a need for proper vessel operation around bottlenose dolphins [6,16].Dolphin-watching tours may repeatedly seek out dolphin groups in coastal areas for lengthy close-up encounters.In Koombana Bay, Western Australia, bottlenose dolphins decreased the duration of foraging, resting, and socializing and increased the duration of traveling, milling, and diving when tourism vessels were present [17].The abundance of bottlenose dolphins declined and groups were small and spread out when tourism boats were present [6,17,18].Compared to large slow-moving vessels, fast-moving vessels increased behavioral interruptions and avoidance responses from bottlenose dolphins [6,15,19,20].When engine-powered vessels were present near Lampedusa Island, Italy, bottlenose dolphins reduced their feeding, resting, and socializing frequencies [15].Milling and resting behavioral states are often sensitive to interruptions from vessels [21].The presence of multiple vessel types and sizes in Doubtful Sound and Milford Sound, New Zealand, reduced the frequencies of socializing and resting behavioral states and resulted in habitat avoidance [14].In South Carolina, bottlenose dolphin group sizes often decreased and behavioral states changed as vessel traffic and proximity increased [19].\n",
      "\n",
      "Proximate encounters with vessels can also affect bottlenose dolphin movement patterns.Vessels moving at rapid speeds with unpredictable movement patterns (e.g., some small recreational vessels) may elicit evasive movements from dolphins to avoid potential vessel strikes [6].The presence and fast approaches of recreational vessels may provoke avoidance responses from bottlenose dolphins, including increased swim speed and bearing changes as well as movement away from approaching vessels [3,4,20,22].In the presence of engine-powered vessels, bottlenose dolphins have increased their dive duration and interbreath intervals, thereby decreasing surface time when the potential for vessel strikes is the highest [4,22].Slow-moving vessels with predictable movement patterns (e.g., medium and large ferries, barges, cargo carriers, and tankers) may have little or no observable disruptive effects on dolphin movement [19].In coastal areas with high anthropogenic disturbances, vessel interactions with bottlenose dolphins need to be monitored for improved management practices of this protected species [23,24].\n",
      "[1]\n",
      "[2]\n",
      "[3]\n",
      "[4]\n",
      "[5]\n",
      "[6]\n",
      "[7]\n",
      "[8]\n",
      "[9]\n",
      "[10]\n"
     ]
    }
   ],
   "source": [
    "# Shows how to download and inspect data in the sample datasets\n",
    "# which are much smaller than the full datasets.\n",
    "import json\n",
    "import subprocess\n",
    "\n",
    "#subprocess.check_call(\"bash get_sample_files.sh\", shell=True)\n",
    "\n",
    "papers = [json.loads(l) for l in open(\"papers-sample.jsonl\", \"r\").readlines()]\n",
    "citations = [json.loads(l) for l in open(\"citations-sample.jsonl\", \"r\").readlines()]\n",
    "embeddings = [json.loads(l) for l in open(\"embeddings-specter_v2-sample.jsonl\", \"r\").readlines()]\n",
    "\n",
    "# S2ORC\n",
    "docs = [json.loads(l) for l in open(\"s2orc-sample.jsonl\", \"r\").readlines()]\n",
    "text = docs[0]['content']['text']\n",
    "annotations = {k: json.loads(v) for k, v in docs[0]['content']['annotations'].items() if v}\n",
    "\n",
    "for a in annotations['paragraph'][:10]:\n",
    "    print(a)\n",
    "for a in annotations['bibref'][:10]:\n",
    "    print(a)\n",
    "for a in annotations['bibentry'][:10]:\n",
    "    print(a)\n",
    "\n",
    "def text_of(type):\n",
    "    return [text[a['start']:a['end']] for a in annotations.get(type, '')]\n",
    "\n",
    "print(text_of('abstract'))\n",
    "print('\\n\\n'.join(text_of('paragraph')[:3]))\n",
    "print('\\n'.join(text_of('bibref')[:10]))"
   ]
  }
 ],
 "metadata": {
  "kernelspec": {
   "display_name": "base",
   "language": "python",
   "name": "python3"
  },
  "language_info": {
   "codemirror_mode": {
    "name": "ipython",
    "version": 3
   },
   "file_extension": ".py",
   "mimetype": "text/x-python",
   "name": "python",
   "nbconvert_exporter": "python",
   "pygments_lexer": "ipython3",
   "version": "3.10.13"
  }
 },
 "nbformat": 4,
 "nbformat_minor": 2
}
